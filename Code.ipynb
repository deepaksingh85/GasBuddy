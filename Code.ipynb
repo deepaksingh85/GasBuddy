{
 "cells": [
  {
   "cell_type": "code",
   "execution_count": 2,
   "metadata": {},
   "outputs": [],
   "source": [
    "import pandas as pd"
   ]
  },
  {
   "cell_type": "code",
   "execution_count": 3,
   "metadata": {},
   "outputs": [
    {
     "data": {
      "text/html": [
       "<div>\n",
       "<style scoped>\n",
       "    .dataframe tbody tr th:only-of-type {\n",
       "        vertical-align: middle;\n",
       "    }\n",
       "\n",
       "    .dataframe tbody tr th {\n",
       "        vertical-align: top;\n",
       "    }\n",
       "\n",
       "    .dataframe thead th {\n",
       "        text-align: right;\n",
       "    }\n",
       "</style>\n",
       "<table border=\"1\" class=\"dataframe\">\n",
       "  <thead>\n",
       "    <tr style=\"text-align: right;\">\n",
       "      <th></th>\n",
       "      <th>price</th>\n",
       "      <th>fuel_type</th>\n",
       "      <th>address</th>\n",
       "      <th>city</th>\n",
       "      <th>state</th>\n",
       "      <th>brand</th>\n",
       "      <th>date</th>\n",
       "    </tr>\n",
       "  </thead>\n",
       "  <tbody>\n",
       "    <tr>\n",
       "      <th>0</th>\n",
       "      <td>2.99</td>\n",
       "      <td>Regular</td>\n",
       "      <td>6109 W  William Cannon  Dr</td>\n",
       "      <td>Austin</td>\n",
       "      <td>TX</td>\n",
       "      <td>Exxon</td>\n",
       "      <td>2018-07-01 00:00:00</td>\n",
       "    </tr>\n",
       "    <tr>\n",
       "      <th>1</th>\n",
       "      <td>3.29</td>\n",
       "      <td>Midgrade</td>\n",
       "      <td>6109 W  William Cannon  Dr</td>\n",
       "      <td>Austin</td>\n",
       "      <td>TX</td>\n",
       "      <td>Exxon</td>\n",
       "      <td>2018-07-01 00:00:00</td>\n",
       "    </tr>\n",
       "    <tr>\n",
       "      <th>2</th>\n",
       "      <td>3.59</td>\n",
       "      <td>Premium</td>\n",
       "      <td>6109 W  William Cannon  Dr</td>\n",
       "      <td>Austin</td>\n",
       "      <td>TX</td>\n",
       "      <td>Exxon</td>\n",
       "      <td>2018-07-01 00:00:00</td>\n",
       "    </tr>\n",
       "    <tr>\n",
       "      <th>3</th>\n",
       "      <td>2.89</td>\n",
       "      <td>Diesel</td>\n",
       "      <td>2440 19th St</td>\n",
       "      <td>Lubbock</td>\n",
       "      <td>TX</td>\n",
       "      <td>Phillips 66</td>\n",
       "      <td>2018-07-01 00:00:02</td>\n",
       "    </tr>\n",
       "    <tr>\n",
       "      <th>4</th>\n",
       "      <td>2.59</td>\n",
       "      <td>Regular</td>\n",
       "      <td>2440 19th St</td>\n",
       "      <td>Lubbock</td>\n",
       "      <td>TX</td>\n",
       "      <td>Phillips 66</td>\n",
       "      <td>2018-07-01 00:00:02</td>\n",
       "    </tr>\n",
       "  </tbody>\n",
       "</table>\n",
       "</div>"
      ],
      "text/plain": [
       "   price fuel_type                     address     city state        brand  \\\n",
       "0   2.99   Regular  6109 W  William Cannon  Dr   Austin    TX        Exxon   \n",
       "1   3.29  Midgrade  6109 W  William Cannon  Dr   Austin    TX        Exxon   \n",
       "2   3.59   Premium  6109 W  William Cannon  Dr   Austin    TX        Exxon   \n",
       "3   2.89    Diesel                2440 19th St  Lubbock    TX  Phillips 66   \n",
       "4   2.59   Regular                2440 19th St  Lubbock    TX  Phillips 66   \n",
       "\n",
       "                  date  \n",
       "0  2018-07-01 00:00:00  \n",
       "1  2018-07-01 00:00:00  \n",
       "2  2018-07-01 00:00:00  \n",
       "3  2018-07-01 00:00:02  \n",
       "4  2018-07-01 00:00:02  "
      ]
     },
     "execution_count": 3,
     "metadata": {},
     "output_type": "execute_result"
    }
   ],
   "source": [
    "\n",
    "\n",
    "## Read the data in data frame\n",
    "df=pd.read_csv(\"GasBuddy_brand_prices.csv\",delimiter='|')\n",
    "\n",
    "df.head() ## Read top few values of the rows to ensure that data is read properly"
   ]
  },
  {
   "cell_type": "code",
   "execution_count": 4,
   "metadata": {},
   "outputs": [
    {
     "name": "stdout",
     "output_type": "stream",
     "text": [
      "<class 'pandas.core.frame.DataFrame'>\n",
      "RangeIndex: 109350 entries, 0 to 109349\n",
      "Data columns (total 7 columns):\n",
      "price        109350 non-null float64\n",
      "fuel_type    109350 non-null object\n",
      "address      109350 non-null object\n",
      "city         109350 non-null object\n",
      "state        109350 non-null object\n",
      "brand        109350 non-null object\n",
      "date         109350 non-null object\n",
      "dtypes: float64(1), object(6)\n",
      "memory usage: 3.3+ MB\n"
     ]
    }
   ],
   "source": [
    "df.info()    ## Check first level information of the data frame"
   ]
  },
  {
   "cell_type": "markdown",
   "metadata": {},
   "source": []
  },
  {
   "cell_type": "code",
   "execution_count": 5,
   "metadata": {},
   "outputs": [
    {
     "name": "stdout",
     "output_type": "stream",
     "text": [
      "<class 'pandas.core.frame.DataFrame'>\n",
      "RangeIndex: 109350 entries, 0 to 109349\n",
      "Data columns (total 7 columns):\n",
      "price        109350 non-null float64\n",
      "fuel_type    109350 non-null category\n",
      "address      109350 non-null object\n",
      "city         109350 non-null category\n",
      "state        109350 non-null category\n",
      "brand        109350 non-null category\n",
      "date         109350 non-null datetime64[ns]\n",
      "dtypes: category(4), datetime64[ns](1), float64(1), object(1)\n",
      "memory usage: 2.6+ MB\n"
     ]
    }
   ],
   "source": [
    "##### . Many columns above are of object type. To be more precise in analysis convert them to their proper type\n",
    "\n",
    "## Below are categorical variables\n",
    "df[\"fuel_type\"] = df[\"fuel_type\"].astype('category')\n",
    "df[\"city\"] = df[\"city\"].astype('category')\n",
    "df[\"state\"] = df[\"state\"].astype('category')\n",
    "df[\"brand\"] = df[\"brand\"].astype('category')\n",
    "\n",
    "## Date is in datetimeformat\n",
    "df[\"date\"] = df[\"date\"].astype('datetime64[ns]')\n",
    "\n",
    "### There is no need to convert address variable. \n",
    "\n",
    "df.info()     ## Check the info again to verify correctness of data types\n",
    "\n"
   ]
  },
  {
   "cell_type": "code",
   "execution_count": 6,
   "metadata": {},
   "outputs": [
    {
     "data": {
      "text/html": [
       "<div>\n",
       "<style scoped>\n",
       "    .dataframe tbody tr th:only-of-type {\n",
       "        vertical-align: middle;\n",
       "    }\n",
       "\n",
       "    .dataframe tbody tr th {\n",
       "        vertical-align: top;\n",
       "    }\n",
       "\n",
       "    .dataframe thead th {\n",
       "        text-align: right;\n",
       "    }\n",
       "</style>\n",
       "<table border=\"1\" class=\"dataframe\">\n",
       "  <thead>\n",
       "    <tr style=\"text-align: right;\">\n",
       "      <th></th>\n",
       "      <th>price</th>\n",
       "    </tr>\n",
       "  </thead>\n",
       "  <tbody>\n",
       "    <tr>\n",
       "      <th>count</th>\n",
       "      <td>109350.000000</td>\n",
       "    </tr>\n",
       "    <tr>\n",
       "      <th>mean</th>\n",
       "      <td>2.853092</td>\n",
       "    </tr>\n",
       "    <tr>\n",
       "      <th>std</th>\n",
       "      <td>0.248598</td>\n",
       "    </tr>\n",
       "    <tr>\n",
       "      <th>min</th>\n",
       "      <td>2.190000</td>\n",
       "    </tr>\n",
       "    <tr>\n",
       "      <th>25%</th>\n",
       "      <td>2.650000</td>\n",
       "    </tr>\n",
       "    <tr>\n",
       "      <th>50%</th>\n",
       "      <td>2.850000</td>\n",
       "    </tr>\n",
       "    <tr>\n",
       "      <th>75%</th>\n",
       "      <td>2.990000</td>\n",
       "    </tr>\n",
       "    <tr>\n",
       "      <th>max</th>\n",
       "      <td>4.090000</td>\n",
       "    </tr>\n",
       "  </tbody>\n",
       "</table>\n",
       "</div>"
      ],
      "text/plain": [
       "               price\n",
       "count  109350.000000\n",
       "mean        2.853092\n",
       "std         0.248598\n",
       "min         2.190000\n",
       "25%         2.650000\n",
       "50%         2.850000\n",
       "75%         2.990000\n",
       "max         4.090000"
      ]
     },
     "execution_count": 6,
     "metadata": {},
     "output_type": "execute_result"
    }
   ],
   "source": [
    "## Check the summary of the data types\n",
    "\n",
    "df.describe()  ## here only series variables will be summarized"
   ]
  },
  {
   "cell_type": "markdown",
   "metadata": {},
   "source": [
    "Minimum value is 2.19 and max is 4.09\n",
    "It means there is no missing or zero value. Also looking at the summary above there does not seem to be any outlier"
   ]
  },
  {
   "cell_type": "code",
   "execution_count": 7,
   "metadata": {},
   "outputs": [
    {
     "data": {
      "text/html": [
       "<div>\n",
       "<style scoped>\n",
       "    .dataframe tbody tr th:only-of-type {\n",
       "        vertical-align: middle;\n",
       "    }\n",
       "\n",
       "    .dataframe tbody tr th {\n",
       "        vertical-align: top;\n",
       "    }\n",
       "\n",
       "    .dataframe thead th {\n",
       "        text-align: right;\n",
       "    }\n",
       "</style>\n",
       "<table border=\"1\" class=\"dataframe\">\n",
       "  <thead>\n",
       "    <tr style=\"text-align: right;\">\n",
       "      <th></th>\n",
       "      <th>fuel_type</th>\n",
       "      <th>city</th>\n",
       "      <th>state</th>\n",
       "      <th>brand</th>\n",
       "    </tr>\n",
       "  </thead>\n",
       "  <tbody>\n",
       "    <tr>\n",
       "      <th>count</th>\n",
       "      <td>109350</td>\n",
       "      <td>109350</td>\n",
       "      <td>109350</td>\n",
       "      <td>109350</td>\n",
       "    </tr>\n",
       "    <tr>\n",
       "      <th>unique</th>\n",
       "      <td>4</td>\n",
       "      <td>840</td>\n",
       "      <td>1</td>\n",
       "      <td>10</td>\n",
       "    </tr>\n",
       "    <tr>\n",
       "      <th>top</th>\n",
       "      <td>Regular</td>\n",
       "      <td>Houston</td>\n",
       "      <td>TX</td>\n",
       "      <td>Exxon</td>\n",
       "    </tr>\n",
       "    <tr>\n",
       "      <th>freq</th>\n",
       "      <td>42580</td>\n",
       "      <td>8121</td>\n",
       "      <td>109350</td>\n",
       "      <td>23439</td>\n",
       "    </tr>\n",
       "  </tbody>\n",
       "</table>\n",
       "</div>"
      ],
      "text/plain": [
       "       fuel_type     city   state   brand\n",
       "count     109350   109350  109350  109350\n",
       "unique         4      840       1      10\n",
       "top      Regular  Houston      TX   Exxon\n",
       "freq       42580     8121  109350   23439"
      ]
     },
     "execution_count": 7,
     "metadata": {},
     "output_type": "execute_result"
    }
   ],
   "source": [
    "df.describe(include = 'category')   ### Check the summary of categorical variables"
   ]
  },
  {
   "cell_type": "code",
   "execution_count": null,
   "metadata": {},
   "outputs": [],
   "source": []
  },
  {
   "cell_type": "code",
   "execution_count": 8,
   "metadata": {},
   "outputs": [
    {
     "data": {
      "text/plain": [
       "Exxon          23439\n",
       "Valero         18915\n",
       "7-Eleven       17161\n",
       "Shell          17015\n",
       "Chevron        12145\n",
       "Texaco          5900\n",
       "Conoco          5209\n",
       "Alon            5029\n",
       "Phillips 66     3244\n",
       "CITGO           1293\n",
       "Name: brand, dtype: int64"
      ]
     },
     "execution_count": 8,
     "metadata": {},
     "output_type": "execute_result"
    }
   ],
   "source": [
    "df[\"brand\"].value_counts()   ## We have to work on brand therefore focusing on the detailed summary of brand only"
   ]
  },
  {
   "cell_type": "markdown",
   "metadata": {},
   "source": [
    "Output in above command shows that there is no missing value. Also there is no mis-spelled/duplicate category"
   ]
  },
  {
   "cell_type": "code",
   "execution_count": 9,
   "metadata": {},
   "outputs": [
    {
     "data": {
      "text/plain": [
       "(72, 7)"
      ]
     },
     "execution_count": 9,
     "metadata": {},
     "output_type": "execute_result"
    }
   ],
   "source": [
    "df.duplicated().any()  #Check for duplicate rows\n",
    "df[df.duplicated()].head()       #displaying all duplicates rows\n",
    "\n",
    "df[df.duplicated()].shape\n"
   ]
  },
  {
   "cell_type": "markdown",
   "metadata": {},
   "source": [
    "There are duplicate rows in data.\n",
    "\n",
    "Question : Are these duplicate rows valid ? Should they be considered in further analysis ? \n",
    "\n",
    "(For now removing duplicate records from analysis)"
   ]
  },
  {
   "cell_type": "code",
   "execution_count": 10,
   "metadata": {},
   "outputs": [
    {
     "name": "stdout",
     "output_type": "stream",
     "text": [
      "Number of rows in primary dataset - 109350\n",
      "Number of duplicate rows in primary dataset - 72\n",
      "Number of rows after duplicate removal - 109278\n"
     ]
    }
   ],
   "source": [
    "print(\"Number of rows in primary dataset - \" + str(df.shape[0]))\n",
    "print(\"Number of duplicate rows in primary dataset - \" + str(df[df.duplicated()].shape[0]))\n",
    "df.drop_duplicates(inplace=True)\n",
    "\n",
    "print(\"Number of rows after duplicate removal - \" + str(df.shape[0]))\n"
   ]
  },
  {
   "cell_type": "code",
   "execution_count": 11,
   "metadata": {},
   "outputs": [
    {
     "data": {
      "text/html": [
       "<div>\n",
       "<style scoped>\n",
       "    .dataframe tbody tr th:only-of-type {\n",
       "        vertical-align: middle;\n",
       "    }\n",
       "\n",
       "    .dataframe tbody tr th {\n",
       "        vertical-align: top;\n",
       "    }\n",
       "\n",
       "    .dataframe thead th {\n",
       "        text-align: right;\n",
       "    }\n",
       "</style>\n",
       "<table border=\"1\" class=\"dataframe\">\n",
       "  <thead>\n",
       "    <tr style=\"text-align: right;\">\n",
       "      <th></th>\n",
       "      <th>price</th>\n",
       "      <th>brand</th>\n",
       "      <th>date</th>\n",
       "    </tr>\n",
       "  </thead>\n",
       "  <tbody>\n",
       "    <tr>\n",
       "      <th>0</th>\n",
       "      <td>2.99</td>\n",
       "      <td>Exxon</td>\n",
       "      <td>2018-07-01 00:00:00</td>\n",
       "    </tr>\n",
       "    <tr>\n",
       "      <th>1</th>\n",
       "      <td>3.29</td>\n",
       "      <td>Exxon</td>\n",
       "      <td>2018-07-01 00:00:00</td>\n",
       "    </tr>\n",
       "    <tr>\n",
       "      <th>2</th>\n",
       "      <td>3.59</td>\n",
       "      <td>Exxon</td>\n",
       "      <td>2018-07-01 00:00:00</td>\n",
       "    </tr>\n",
       "    <tr>\n",
       "      <th>3</th>\n",
       "      <td>2.89</td>\n",
       "      <td>Phillips 66</td>\n",
       "      <td>2018-07-01 00:00:02</td>\n",
       "    </tr>\n",
       "    <tr>\n",
       "      <th>4</th>\n",
       "      <td>2.59</td>\n",
       "      <td>Phillips 66</td>\n",
       "      <td>2018-07-01 00:00:02</td>\n",
       "    </tr>\n",
       "  </tbody>\n",
       "</table>\n",
       "</div>"
      ],
      "text/plain": [
       "   price        brand                date\n",
       "0   2.99        Exxon 2018-07-01 00:00:00\n",
       "1   3.29        Exxon 2018-07-01 00:00:00\n",
       "2   3.59        Exxon 2018-07-01 00:00:00\n",
       "3   2.89  Phillips 66 2018-07-01 00:00:02\n",
       "4   2.59  Phillips 66 2018-07-01 00:00:02"
      ]
     },
     "execution_count": 11,
     "metadata": {},
     "output_type": "execute_result"
    }
   ],
   "source": [
    "#Select all rows for working columns only\n",
    "workdf = df.loc[ :, [\"price\",\"brand\", \"date\"]]\n",
    "workdf.head()"
   ]
  },
  {
   "cell_type": "markdown",
   "metadata": {},
   "source": [
    "Data above has both date and time. To aggregate on date basis only date information should be kept and time should not be considered. Therefore extracting the period information from the column and creating a new column"
   ]
  },
  {
   "cell_type": "code",
   "execution_count": 12,
   "metadata": {},
   "outputs": [
    {
     "data": {
      "text/html": [
       "<div>\n",
       "<style scoped>\n",
       "    .dataframe tbody tr th:only-of-type {\n",
       "        vertical-align: middle;\n",
       "    }\n",
       "\n",
       "    .dataframe tbody tr th {\n",
       "        vertical-align: top;\n",
       "    }\n",
       "\n",
       "    .dataframe thead th {\n",
       "        text-align: right;\n",
       "    }\n",
       "</style>\n",
       "<table border=\"1\" class=\"dataframe\">\n",
       "  <thead>\n",
       "    <tr style=\"text-align: right;\">\n",
       "      <th></th>\n",
       "      <th>price</th>\n",
       "      <th>brand</th>\n",
       "      <th>date</th>\n",
       "      <th>period</th>\n",
       "    </tr>\n",
       "  </thead>\n",
       "  <tbody>\n",
       "    <tr>\n",
       "      <th>0</th>\n",
       "      <td>2.99</td>\n",
       "      <td>Exxon</td>\n",
       "      <td>2018-07-01 00:00:00</td>\n",
       "      <td>2018-07-01</td>\n",
       "    </tr>\n",
       "    <tr>\n",
       "      <th>1</th>\n",
       "      <td>3.29</td>\n",
       "      <td>Exxon</td>\n",
       "      <td>2018-07-01 00:00:00</td>\n",
       "      <td>2018-07-01</td>\n",
       "    </tr>\n",
       "    <tr>\n",
       "      <th>2</th>\n",
       "      <td>3.59</td>\n",
       "      <td>Exxon</td>\n",
       "      <td>2018-07-01 00:00:00</td>\n",
       "      <td>2018-07-01</td>\n",
       "    </tr>\n",
       "    <tr>\n",
       "      <th>3</th>\n",
       "      <td>2.89</td>\n",
       "      <td>Phillips 66</td>\n",
       "      <td>2018-07-01 00:00:02</td>\n",
       "      <td>2018-07-01</td>\n",
       "    </tr>\n",
       "    <tr>\n",
       "      <th>4</th>\n",
       "      <td>2.59</td>\n",
       "      <td>Phillips 66</td>\n",
       "      <td>2018-07-01 00:00:02</td>\n",
       "      <td>2018-07-01</td>\n",
       "    </tr>\n",
       "  </tbody>\n",
       "</table>\n",
       "</div>"
      ],
      "text/plain": [
       "   price        brand                date     period\n",
       "0   2.99        Exxon 2018-07-01 00:00:00 2018-07-01\n",
       "1   3.29        Exxon 2018-07-01 00:00:00 2018-07-01\n",
       "2   3.59        Exxon 2018-07-01 00:00:00 2018-07-01\n",
       "3   2.89  Phillips 66 2018-07-01 00:00:02 2018-07-01\n",
       "4   2.59  Phillips 66 2018-07-01 00:00:02 2018-07-01"
      ]
     },
     "execution_count": 12,
     "metadata": {},
     "output_type": "execute_result"
    }
   ],
   "source": [
    "## Extract the period inf\n",
    "workdf[\"period\"] = workdf[\"date\"].dt.to_period('D')\n",
    "\n",
    "## now change the period to category\n",
    "workdf[\"period\"] = workdf[\"period\"].astype(\"category\")\n",
    "workdf.head()"
   ]
  },
  {
   "cell_type": "code",
   "execution_count": 13,
   "metadata": {},
   "outputs": [
    {
     "data": {
      "text/html": [
       "<div>\n",
       "<style scoped>\n",
       "    .dataframe tbody tr th:only-of-type {\n",
       "        vertical-align: middle;\n",
       "    }\n",
       "\n",
       "    .dataframe tbody tr th {\n",
       "        vertical-align: top;\n",
       "    }\n",
       "\n",
       "    .dataframe thead th {\n",
       "        text-align: right;\n",
       "    }\n",
       "</style>\n",
       "<table border=\"1\" class=\"dataframe\">\n",
       "  <thead>\n",
       "    <tr style=\"text-align: right;\">\n",
       "      <th></th>\n",
       "      <th></th>\n",
       "      <th>price</th>\n",
       "    </tr>\n",
       "    <tr>\n",
       "      <th>brand</th>\n",
       "      <th>period</th>\n",
       "      <th></th>\n",
       "    </tr>\n",
       "  </thead>\n",
       "  <tbody>\n",
       "    <tr>\n",
       "      <th rowspan=\"3\" valign=\"top\">7-Eleven</th>\n",
       "      <th>2018-07-01</th>\n",
       "      <td>2.848512</td>\n",
       "    </tr>\n",
       "    <tr>\n",
       "      <th>2018-07-02</th>\n",
       "      <td>2.838686</td>\n",
       "    </tr>\n",
       "    <tr>\n",
       "      <th>2018-07-03</th>\n",
       "      <td>2.835150</td>\n",
       "    </tr>\n",
       "    <tr>\n",
       "      <th rowspan=\"2\" valign=\"top\">Alon</th>\n",
       "      <th>2018-07-01</th>\n",
       "      <td>2.946786</td>\n",
       "    </tr>\n",
       "    <tr>\n",
       "      <th>2018-07-02</th>\n",
       "      <td>2.937942</td>\n",
       "    </tr>\n",
       "  </tbody>\n",
       "</table>\n",
       "</div>"
      ],
      "text/plain": [
       "                        price\n",
       "brand    period              \n",
       "7-Eleven 2018-07-01  2.848512\n",
       "         2018-07-02  2.838686\n",
       "         2018-07-03  2.835150\n",
       "Alon     2018-07-01  2.946786\n",
       "         2018-07-02  2.937942"
      ]
     },
     "execution_count": 13,
     "metadata": {},
     "output_type": "execute_result"
    }
   ],
   "source": [
    "## Now group by data based on brand and date and compute the mean\n",
    "summary_report = workdf.groupby(['brand','period'])[['price']].mean()\n",
    "\n",
    "summary_report.head()"
   ]
  },
  {
   "cell_type": "code",
   "execution_count": null,
   "metadata": {},
   "outputs": [],
   "source": []
  },
  {
   "cell_type": "code",
   "execution_count": 14,
   "metadata": {},
   "outputs": [],
   "source": [
    "## Write report to CSV\n",
    "\n",
    "summary_report.to_csv(\"daily-price-summary-by-brand.csv\")"
   ]
  },
  {
   "cell_type": "code",
   "execution_count": null,
   "metadata": {},
   "outputs": [],
   "source": []
  },
  {
   "cell_type": "code",
   "execution_count": null,
   "metadata": {},
   "outputs": [],
   "source": []
  }
 ],
 "metadata": {
  "kernelspec": {
   "display_name": "Python 3",
   "language": "python",
   "name": "python3"
  },
  "language_info": {
   "codemirror_mode": {
    "name": "ipython",
    "version": 3
   },
   "file_extension": ".py",
   "mimetype": "text/x-python",
   "name": "python",
   "nbconvert_exporter": "python",
   "pygments_lexer": "ipython3",
   "version": "3.6.3"
  }
 },
 "nbformat": 4,
 "nbformat_minor": 2
}
